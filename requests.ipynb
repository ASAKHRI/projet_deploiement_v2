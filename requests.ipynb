{
 "cells": [
  {
   "cell_type": "code",
   "execution_count": 1,
   "metadata": {},
   "outputs": [],
   "source": [
    "import requests"
   ]
  },
  {
   "cell_type": "code",
   "execution_count": 2,
   "metadata": {},
   "outputs": [
    {
     "data": {
      "text/plain": [
       "'<div style=\"display: block; margin: auto;  width: 600px; height: 500px; text-align: center; font-family: \\'Courier\\', cursive, sans-serif;\"><h1 style=\"color: 747474\">:( Application Error</h1><p style=\"color:#666\">If you are the application administrator, you can access the <a style=\"color: grey\"href=\"https://laurahmedapp.scm.azurewebsites.net/detectors\">diagnostic resources</a>.</div>\\n'"
      ]
     },
     "execution_count": 2,
     "metadata": {},
     "output_type": "execute_result"
    }
   ],
   "source": [
    "\n",
    "url = 'https://LaurAhmedApp.azurewebsites.net/predict'\n",
    "headers = {\n",
    "   'accept': 'application/json',\n",
    "   'Content-Type': 'application/json',\n",
    "}\n",
    "\n",
    "\n",
    "data = '{\"sepal_length\": 6.2,\"sepal_width\": 3.4,\"petal_length\": 5.4,\"petal_width\": 2.3}'\n",
    "response = requests.get(url, headers=headers, data=data)\n",
    "response.text"
   ]
  },
  {
   "cell_type": "code",
   "execution_count": null,
   "metadata": {},
   "outputs": [],
   "source": []
  }
 ],
 "metadata": {
  "kernelspec": {
   "display_name": "Python 3",
   "language": "python",
   "name": "python3"
  },
  "language_info": {
   "codemirror_mode": {
    "name": "ipython",
    "version": 3
   },
   "file_extension": ".py",
   "mimetype": "text/x-python",
   "name": "python",
   "nbconvert_exporter": "python",
   "pygments_lexer": "ipython3",
   "version": "3.10.6"
  },
  "orig_nbformat": 4
 },
 "nbformat": 4,
 "nbformat_minor": 2
}
